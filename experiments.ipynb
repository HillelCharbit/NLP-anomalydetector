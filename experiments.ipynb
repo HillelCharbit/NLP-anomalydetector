{
 "cells": [
  {
   "cell_type": "code",
   "execution_count": 1,
   "metadata": {},
   "outputs": [],
   "source": [
    "import numpy as np\n",
    "import pandas as pd"
   ]
  },
  {
   "cell_type": "code",
   "execution_count": null,
   "metadata": {},
   "outputs": [
    {
     "name": "stdout",
     "output_type": "stream",
     "text": [
      "10000\n",
      "1592\n",
      "1591\n"
     ]
    }
   ],
   "source": [
    "df = pd.read_excel('sin_data.xlsx')\n",
    "\n",
    "# print length of the dataframe\n",
    "print(len(df))\n",
    "\n",
    "# go through the lines and if the value is above 0.85 put the index in a list \n",
    "\n",
    "indexes = []\n",
    "for index, row in df.iterrows():\n",
    "    if index > 0 and row['Sin(X)'] > 0.85 and row_prev['Sin(X)'] < 0.85:\n",
    "        indexes.append(index)\n",
    "    row_prev = row\n",
    "\n",
    "# now compute all the differences between the indexes\n",
    "diffs = np.diff(indexes)\n",
    "\n",
    "\n",
    "\n",
    "\n",
    "# make a new list with indexes from indexes[1] to the end of the list\n",
    "indexes_df = indexes[1:]\n",
    "\n",
    "# make a dataframe with the indexes and the differences\n",
    "df1 = pd.DataFrame({'Index': indexes_df, 'Difference': diffs})\n",
    "\n",
    "\n",
    "\n",
    "df1.to_csv('sin_data2.csv', index=False)"
   ]
  },
  {
   "cell_type": "code",
   "execution_count": 2,
   "metadata": {},
   "outputs": [
    {
     "name": "stdout",
     "output_type": "stream",
     "text": [
      "10000\n",
      "   Index     Value  Label\n",
      "0      0  0.000000      0\n",
      "1      1  0.841471      0\n",
      "2      2  0.909297      1\n",
      "3      3  0.141120      0\n",
      "4      4 -0.756802      0\n",
      "5      5 -0.958924      0\n",
      "6      6 -0.279415      0\n",
      "7      7  0.656987      0\n",
      "8      8  0.989358      1\n",
      "9      9  0.412118      0\n"
     ]
    }
   ],
   "source": [
    "df = pd.read_excel('sin_data.xlsx')\n",
    "\n",
    "# print length of the dataframe\n",
    "print(len(df))\n",
    "\n",
    "\n",
    "# if the value is above 0.9 put a 1 in the list (anomaly), if not put a 0 \n",
    "\n",
    "labels = []\n",
    "for index, row in df.iterrows():\n",
    "    if row['Sin(X)'] > 0.9:\n",
    "        labels.append(1)\n",
    "    else:\n",
    "        labels.append(0)\n",
    "\n",
    "# make a new dataframe with the indexes, the values, and the labels\n",
    "df2 = pd.DataFrame({'Index': df.index, 'Value': df['Sin(X)'], 'Label': labels})\n",
    "\n",
    "df2.to_csv('sin_data_labeled.csv', index=False)\n",
    "\n",
    "# print the first 10 lines of the dataframe\n",
    "print(df2.head(10))\n",
    "\n",
    "\n",
    "\n"
   ]
  }
 ],
 "metadata": {
  "kernelspec": {
   "display_name": "NLPLab",
   "language": "python",
   "name": "python3"
  },
  "language_info": {
   "codemirror_mode": {
    "name": "ipython",
    "version": 3
   },
   "file_extension": ".py",
   "mimetype": "text/x-python",
   "name": "python",
   "nbconvert_exporter": "python",
   "pygments_lexer": "ipython3",
   "version": "3.12.7"
  }
 },
 "nbformat": 4,
 "nbformat_minor": 2
}
