{
 "cells": [
  {
   "cell_type": "code",
   "execution_count": 4,
   "metadata": {},
   "outputs": [],
   "source": [
    "import numpy as np\n",
    "import pandas as pd"
   ]
  },
  {
   "cell_type": "code",
   "execution_count": 11,
   "metadata": {},
   "outputs": [
    {
     "name": "stdout",
     "output_type": "stream",
     "text": [
      "10000\n",
      "1591\n"
     ]
    }
   ],
   "source": [
    "df = pd.read_excel('sin_data.xlsx')\n",
    "\n",
    "# print length of the dataframe\n",
    "print(len(df))\n",
    "\n",
    "# go through the lines and if the value is above 0.85 put the index in a list \n",
    "\n",
    "indexes = []\n",
    "for index, row in df.iterrows():\n",
    "    if index > 0 and row['Sin(X)'] > 0.85 and row_prev['Sin(X)'] < 0.85:\n",
    "        indexes.append(index)\n",
    "    row_prev = row\n",
    "\n",
    "# now compute all the differences between the indexes\n",
    "diffs = np.diff(indexes)\n",
    "\n",
    "print(len(diffs))\n",
    "\n",
    "# make a new file with new indexes and the differences\n",
    "\n",
    "# make a list of indexes from 0 to len(diffs)\n",
    "indexes_df2 = np.arange(0, len(diffs))\n",
    "\n",
    "df2 = pd.DataFrame({'Index': indexes_df2, 'Difference': diffs})\n",
    "\n",
    "df2.to_csv('sin_data2.csv', index=False)"
   ]
  }
 ],
 "metadata": {
  "kernelspec": {
   "display_name": "NLPLab",
   "language": "python",
   "name": "python3"
  },
  "language_info": {
   "codemirror_mode": {
    "name": "ipython",
    "version": 3
   },
   "file_extension": ".py",
   "mimetype": "text/x-python",
   "name": "python",
   "nbconvert_exporter": "python",
   "pygments_lexer": "ipython3",
   "version": "3.12.7"
  }
 },
 "nbformat": 4,
 "nbformat_minor": 2
}
